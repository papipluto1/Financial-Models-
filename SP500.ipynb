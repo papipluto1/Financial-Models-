{
 "cells": [
  {
   "cell_type": "code",
   "execution_count": 26,
   "id": "3eb4cac4-f4d7-40d3-9378-987db037ce9d",
   "metadata": {},
   "outputs": [],
   "source": [
    "import pandas as pd \n",
    "import numpy as np \n",
    "import matplotlib.pyplot as plt \n",
    "from scipy.stats import norm\n"
   ]
  },
  {
   "cell_type": "code",
   "execution_count": 14,
   "id": "4ae7b946-5668-4382-908d-c5f39ff0e444",
   "metadata": {},
   "outputs": [],
   "source": [
    "sp500 = pd.read_csv('SP500.csv')"
   ]
  },
  {
   "cell_type": "code",
   "execution_count": 15,
   "id": "5a10f430-c6bc-4ca9-aa23-743bc10ab379",
   "metadata": {},
   "outputs": [
    {
     "data": {
      "text/html": [
       "<div>\n",
       "<style scoped>\n",
       "    .dataframe tbody tr th:only-of-type {\n",
       "        vertical-align: middle;\n",
       "    }\n",
       "\n",
       "    .dataframe tbody tr th {\n",
       "        vertical-align: top;\n",
       "    }\n",
       "\n",
       "    .dataframe thead th {\n",
       "        text-align: right;\n",
       "    }\n",
       "</style>\n",
       "<table border=\"1\" class=\"dataframe\">\n",
       "  <thead>\n",
       "    <tr style=\"text-align: right;\">\n",
       "      <th></th>\n",
       "      <th>Date</th>\n",
       "      <th>Open</th>\n",
       "      <th>High</th>\n",
       "      <th>Low</th>\n",
       "      <th>Close</th>\n",
       "      <th>Adj Close</th>\n",
       "      <th>Volume</th>\n",
       "    </tr>\n",
       "  </thead>\n",
       "  <tbody>\n",
       "    <tr>\n",
       "      <th>0</th>\n",
       "      <td>2008-01-02</td>\n",
       "      <td>1467.969971</td>\n",
       "      <td>1471.770020</td>\n",
       "      <td>1442.069946</td>\n",
       "      <td>1447.160034</td>\n",
       "      <td>1447.160034</td>\n",
       "      <td>3452650000</td>\n",
       "    </tr>\n",
       "    <tr>\n",
       "      <th>1</th>\n",
       "      <td>2008-01-03</td>\n",
       "      <td>1447.550049</td>\n",
       "      <td>1456.800049</td>\n",
       "      <td>1443.729980</td>\n",
       "      <td>1447.160034</td>\n",
       "      <td>1447.160034</td>\n",
       "      <td>3429500000</td>\n",
       "    </tr>\n",
       "    <tr>\n",
       "      <th>2</th>\n",
       "      <td>2008-01-04</td>\n",
       "      <td>1444.010010</td>\n",
       "      <td>1444.010010</td>\n",
       "      <td>1411.189941</td>\n",
       "      <td>1411.630005</td>\n",
       "      <td>1411.630005</td>\n",
       "      <td>4166000000</td>\n",
       "    </tr>\n",
       "    <tr>\n",
       "      <th>3</th>\n",
       "      <td>2008-01-07</td>\n",
       "      <td>1414.069946</td>\n",
       "      <td>1423.869995</td>\n",
       "      <td>1403.449951</td>\n",
       "      <td>1416.180054</td>\n",
       "      <td>1416.180054</td>\n",
       "      <td>4221260000</td>\n",
       "    </tr>\n",
       "    <tr>\n",
       "      <th>4</th>\n",
       "      <td>2008-01-08</td>\n",
       "      <td>1415.709961</td>\n",
       "      <td>1430.280029</td>\n",
       "      <td>1388.300049</td>\n",
       "      <td>1390.189941</td>\n",
       "      <td>1390.189941</td>\n",
       "      <td>4705390000</td>\n",
       "    </tr>\n",
       "  </tbody>\n",
       "</table>\n",
       "</div>"
      ],
      "text/plain": [
       "         Date         Open         High          Low        Close  \\\n",
       "0  2008-01-02  1467.969971  1471.770020  1442.069946  1447.160034   \n",
       "1  2008-01-03  1447.550049  1456.800049  1443.729980  1447.160034   \n",
       "2  2008-01-04  1444.010010  1444.010010  1411.189941  1411.630005   \n",
       "3  2008-01-07  1414.069946  1423.869995  1403.449951  1416.180054   \n",
       "4  2008-01-08  1415.709961  1430.280029  1388.300049  1390.189941   \n",
       "\n",
       "     Adj Close      Volume  \n",
       "0  1447.160034  3452650000  \n",
       "1  1447.160034  3429500000  \n",
       "2  1411.630005  4166000000  \n",
       "3  1416.180054  4221260000  \n",
       "4  1390.189941  4705390000  "
      ]
     },
     "execution_count": 15,
     "metadata": {},
     "output_type": "execute_result"
    }
   ],
   "source": [
    "sp500.head()"
   ]
  },
  {
   "cell_type": "code",
   "execution_count": 45,
   "id": "5c7d11ee-1007-44a3-83c1-5fcff4667d02",
   "metadata": {},
   "outputs": [
    {
     "data": {
      "text/plain": [
       "2678"
      ]
     },
     "execution_count": 45,
     "metadata": {},
     "output_type": "execute_result"
    }
   ],
   "source": [
    "sp500.index[-1]"
   ]
  },
  {
   "cell_type": "code",
   "execution_count": 46,
   "id": "7ae9198d-2e02-426b-a994-3a5d94a04fa9",
   "metadata": {},
   "outputs": [
    {
     "data": {
      "text/plain": [
       "Index(['Date', 'Open', 'High', 'Low', 'Close', 'Adj Close', 'Volume', 'Close1',\n",
       "       'Return'],\n",
       "      dtype='object')"
      ]
     },
     "execution_count": 46,
     "metadata": {},
     "output_type": "execute_result"
    }
   ],
   "source": [
    "sp500.columns"
   ]
  },
  {
   "cell_type": "code",
   "execution_count": 48,
   "id": "c8b5a268-7c71-4da8-b6b7-77341a54854b",
   "metadata": {},
   "outputs": [
    {
     "data": {
      "text/plain": [
       "(2679, 9)"
      ]
     },
     "execution_count": 48,
     "metadata": {},
     "output_type": "execute_result"
    }
   ],
   "source": [
    "sp500.shape"
   ]
  },
  {
   "cell_type": "code",
   "execution_count": 49,
   "id": "8d4ec721-36a6-4e05-89ee-8565be3c201c",
   "metadata": {},
   "outputs": [
    {
     "data": {
      "text/plain": [
       "<bound method NDFrame.describe of             Date         Open         High          Low        Close  \\\n",
       "0     2008-01-02  1467.969971  1471.770020  1442.069946  1447.160034   \n",
       "1     2008-01-03  1447.550049  1456.800049  1443.729980  1447.160034   \n",
       "2     2008-01-04  1444.010010  1444.010010  1411.189941  1411.630005   \n",
       "3     2008-01-07  1414.069946  1423.869995  1403.449951  1416.180054   \n",
       "4     2008-01-08  1415.709961  1430.280029  1388.300049  1390.189941   \n",
       "...          ...          ...          ...          ...          ...   \n",
       "2674  2018-08-15  2827.949951  2827.949951  2802.489990  2818.370117   \n",
       "2675  2018-08-16  2831.439941  2850.489990  2831.439941  2840.689941   \n",
       "2676  2018-08-17  2838.320068  2855.629883  2833.729980  2850.129883   \n",
       "2677  2018-08-20  2853.929932  2859.760010  2850.620117  2857.050049   \n",
       "2678  2018-08-21  2861.510010  2873.229980  2861.320068  2862.959961   \n",
       "\n",
       "        Adj Close      Volume       Close1     Return  \n",
       "0     1447.160034  3452650000  1447.160034   0.000000  \n",
       "1     1447.160034  3429500000  1411.630005 -35.530029  \n",
       "2     1411.630005  4166000000  1416.180054   4.550049  \n",
       "3     1416.180054  4221260000  1390.189941 -25.990113  \n",
       "4     1390.189941  4705390000  1409.130005  18.940064  \n",
       "...           ...         ...          ...        ...  \n",
       "2674  2818.370117  3645070000  2840.689941  22.319824  \n",
       "2675  2840.689941  3219880000  2850.129883   9.439942  \n",
       "2676  2850.129883  3024100000  2857.050049   6.920166  \n",
       "2677  2857.050049  2748020000  2862.959961   5.909912  \n",
       "2678  2862.959961  3147140000          NaN        NaN  \n",
       "\n",
       "[2679 rows x 9 columns]>"
      ]
     },
     "execution_count": 49,
     "metadata": {},
     "output_type": "execute_result"
    }
   ],
   "source": [
    "sp500.describe"
   ]
  },
  {
   "cell_type": "code",
   "execution_count": 16,
   "id": "7fae3d9a-4a8a-4ed3-8dca-400d2f23fbd3",
   "metadata": {},
   "outputs": [],
   "source": [
    "sp500['Close1']=sp500['Close'].shift(-1)"
   ]
  },
  {
   "cell_type": "code",
   "execution_count": 50,
   "id": "73fae58b-70ad-4a13-a747-da9a474a3c03",
   "metadata": {},
   "outputs": [],
   "source": [
    "sp500['Price1']= sp500['Close1'] - sp500['Close']"
   ]
  },
  {
   "cell_type": "code",
   "execution_count": 51,
   "id": "baddb197-3af6-48e0-a9cc-f38c6bd77603",
   "metadata": {},
   "outputs": [
    {
     "data": {
      "text/html": [
       "<div>\n",
       "<style scoped>\n",
       "    .dataframe tbody tr th:only-of-type {\n",
       "        vertical-align: middle;\n",
       "    }\n",
       "\n",
       "    .dataframe tbody tr th {\n",
       "        vertical-align: top;\n",
       "    }\n",
       "\n",
       "    .dataframe thead th {\n",
       "        text-align: right;\n",
       "    }\n",
       "</style>\n",
       "<table border=\"1\" class=\"dataframe\">\n",
       "  <thead>\n",
       "    <tr style=\"text-align: right;\">\n",
       "      <th></th>\n",
       "      <th>Date</th>\n",
       "      <th>Open</th>\n",
       "      <th>High</th>\n",
       "      <th>Low</th>\n",
       "      <th>Close</th>\n",
       "      <th>Adj Close</th>\n",
       "      <th>Volume</th>\n",
       "      <th>Close1</th>\n",
       "      <th>Return</th>\n",
       "      <th>PriceDiff</th>\n",
       "    </tr>\n",
       "  </thead>\n",
       "  <tbody>\n",
       "    <tr>\n",
       "      <th>0</th>\n",
       "      <td>2008-01-02</td>\n",
       "      <td>1467.969971</td>\n",
       "      <td>1471.770020</td>\n",
       "      <td>1442.069946</td>\n",
       "      <td>1447.160034</td>\n",
       "      <td>1447.160034</td>\n",
       "      <td>3452650000</td>\n",
       "      <td>1447.160034</td>\n",
       "      <td>0.000000</td>\n",
       "      <td>0.000000</td>\n",
       "    </tr>\n",
       "    <tr>\n",
       "      <th>1</th>\n",
       "      <td>2008-01-03</td>\n",
       "      <td>1447.550049</td>\n",
       "      <td>1456.800049</td>\n",
       "      <td>1443.729980</td>\n",
       "      <td>1447.160034</td>\n",
       "      <td>1447.160034</td>\n",
       "      <td>3429500000</td>\n",
       "      <td>1411.630005</td>\n",
       "      <td>-35.530029</td>\n",
       "      <td>-35.530029</td>\n",
       "    </tr>\n",
       "    <tr>\n",
       "      <th>2</th>\n",
       "      <td>2008-01-04</td>\n",
       "      <td>1444.010010</td>\n",
       "      <td>1444.010010</td>\n",
       "      <td>1411.189941</td>\n",
       "      <td>1411.630005</td>\n",
       "      <td>1411.630005</td>\n",
       "      <td>4166000000</td>\n",
       "      <td>1416.180054</td>\n",
       "      <td>4.550049</td>\n",
       "      <td>4.550049</td>\n",
       "    </tr>\n",
       "    <tr>\n",
       "      <th>3</th>\n",
       "      <td>2008-01-07</td>\n",
       "      <td>1414.069946</td>\n",
       "      <td>1423.869995</td>\n",
       "      <td>1403.449951</td>\n",
       "      <td>1416.180054</td>\n",
       "      <td>1416.180054</td>\n",
       "      <td>4221260000</td>\n",
       "      <td>1390.189941</td>\n",
       "      <td>-25.990113</td>\n",
       "      <td>-25.990113</td>\n",
       "    </tr>\n",
       "    <tr>\n",
       "      <th>4</th>\n",
       "      <td>2008-01-08</td>\n",
       "      <td>1415.709961</td>\n",
       "      <td>1430.280029</td>\n",
       "      <td>1388.300049</td>\n",
       "      <td>1390.189941</td>\n",
       "      <td>1390.189941</td>\n",
       "      <td>4705390000</td>\n",
       "      <td>1409.130005</td>\n",
       "      <td>18.940064</td>\n",
       "      <td>18.940064</td>\n",
       "    </tr>\n",
       "  </tbody>\n",
       "</table>\n",
       "</div>"
      ],
      "text/plain": [
       "         Date         Open         High          Low        Close  \\\n",
       "0  2008-01-02  1467.969971  1471.770020  1442.069946  1447.160034   \n",
       "1  2008-01-03  1447.550049  1456.800049  1443.729980  1447.160034   \n",
       "2  2008-01-04  1444.010010  1444.010010  1411.189941  1411.630005   \n",
       "3  2008-01-07  1414.069946  1423.869995  1403.449951  1416.180054   \n",
       "4  2008-01-08  1415.709961  1430.280029  1388.300049  1390.189941   \n",
       "\n",
       "     Adj Close      Volume       Close1     Return  PriceDiff  \n",
       "0  1447.160034  3452650000  1447.160034   0.000000   0.000000  \n",
       "1  1447.160034  3429500000  1411.630005 -35.530029 -35.530029  \n",
       "2  1411.630005  4166000000  1416.180054   4.550049   4.550049  \n",
       "3  1416.180054  4221260000  1390.189941 -25.990113 -25.990113  \n",
       "4  1390.189941  4705390000  1409.130005  18.940064  18.940064  "
      ]
     },
     "execution_count": 51,
     "metadata": {},
     "output_type": "execute_result"
    }
   ],
   "source": [
    "sp500.head()"
   ]
  },
  {
   "cell_type": "code",
   "execution_count": 52,
   "id": "e51dc0d6-0eeb-4db1-be58-6da943da2cf3",
   "metadata": {},
   "outputs": [
    {
     "data": {
      "text/plain": [
       "1415.799927"
      ]
     },
     "execution_count": 52,
     "metadata": {},
     "output_type": "execute_result"
    }
   ],
   "source": [
    "sp500['Return'].sum()"
   ]
  },
  {
   "cell_type": "code",
   "execution_count": 59,
   "id": "c588dcb2-9ea8-40ba-81ed-3e7b495e0761",
   "metadata": {},
   "outputs": [],
   "source": [
    "density = pd.DataFrame()\n",
    "density['x']= np.arange(sp500['Return'].min() - 0.001, sp500['Return'].max() + 0.01,0.001)\n",
    "mu = sp500['Return'].mean()\n",
    "sigma = sp500['Return'].std(ddof=1)\n",
    "density['pdf'] = norm.pdf(density['x'],mu,sigma)\n",
    "plt.legend \n",
    "plt.show()"
   ]
  },
  {
   "cell_type": "code",
   "execution_count": 1,
   "id": "07fc9498-452e-4761-81a0-246c333ab20a",
   "metadata": {},
   "outputs": [
    {
     "ename": "NameError",
     "evalue": "name 'norm' is not defined",
     "output_type": "error",
     "traceback": [
      "\u001b[0;31m---------------------------------------------------------------------------\u001b[0m",
      "\u001b[0;31mNameError\u001b[0m                                 Traceback (most recent call last)",
      "Cell \u001b[0;32mIn[1], line 1\u001b[0m\n\u001b[0;32m----> 1\u001b[0m prob_Return05 \u001b[38;5;241m=\u001b[39m \u001b[43mnorm\u001b[49m\u001b[38;5;241m.\u001b[39mcdf(\u001b[38;5;241m-\u001b[39m\u001b[38;5;241m0.05\u001b[39m,mu,sigma)\n\u001b[1;32m      2\u001b[0m \u001b[38;5;28mprint\u001b[39m(\u001b[38;5;124m'\u001b[39m\u001b[38;5;124mThe Probability of returing 5\u001b[39m\u001b[38;5;132;01m% i\u001b[39;00m\u001b[38;5;124ms\u001b[39m\u001b[38;5;124m'\u001b[39m,prob_Return05)\n",
      "\u001b[0;31mNameError\u001b[0m: name 'norm' is not defined"
     ]
    }
   ],
   "source": [
    "prob_Return05 = norm.cdf(-0.05,mu,sigma)\n",
    "print('The Probability of returing 5% is',prob_Return05)"
   ]
  },
  {
   "cell_type": "code",
   "execution_count": 55,
   "id": "5d0fc1c6-a297-4e5f-8501-1105f24d9b7e",
   "metadata": {},
   "outputs": [
    {
     "name": "stdout",
     "output_type": "stream",
     "text": [
      "The probability of dropping over 40% in 220 days is 0.3209980296267988\n"
     ]
    }
   ],
   "source": [
    "mu220 = 220*mu\n",
    "sigma220 = (220**0.5)*sigma\n",
    "print('The probability of dropping over 40% in 220 days is', norm.cdf(-0.4,mu220,sigma220))"
   ]
  },
  {
   "cell_type": "code",
   "execution_count": 56,
   "id": "9ff5304e-c02e-4b98-bda1-6705f9b190bd",
   "metadata": {},
   "outputs": [
    {
     "name": "stdout",
     "output_type": "stream",
     "text": [
      "Single day value at risk -27.31023288592698\n"
     ]
    }
   ],
   "source": [
    "VaR = norm.ppf((0.05),mu,sigma)\n",
    "print('Single day value at risk',VaR)"
   ]
  },
  {
   "cell_type": "code",
   "execution_count": 60,
   "id": "5ad6d063-8b66-48ee-a5de-0034c776ae07",
   "metadata": {},
   "outputs": [],
   "source": [
    "sp500['Return'] = sp500['PriceDiff']/sp500['Close']"
   ]
  },
  {
   "cell_type": "code",
   "execution_count": 61,
   "id": "9ab9cf49-20ed-44a9-947c-348c6fbe3158",
   "metadata": {},
   "outputs": [
    {
     "data": {
      "text/html": [
       "<div>\n",
       "<style scoped>\n",
       "    .dataframe tbody tr th:only-of-type {\n",
       "        vertical-align: middle;\n",
       "    }\n",
       "\n",
       "    .dataframe tbody tr th {\n",
       "        vertical-align: top;\n",
       "    }\n",
       "\n",
       "    .dataframe thead th {\n",
       "        text-align: right;\n",
       "    }\n",
       "</style>\n",
       "<table border=\"1\" class=\"dataframe\">\n",
       "  <thead>\n",
       "    <tr style=\"text-align: right;\">\n",
       "      <th></th>\n",
       "      <th>Date</th>\n",
       "      <th>Open</th>\n",
       "      <th>High</th>\n",
       "      <th>Low</th>\n",
       "      <th>Close</th>\n",
       "      <th>Adj Close</th>\n",
       "      <th>Volume</th>\n",
       "      <th>Close1</th>\n",
       "      <th>Return</th>\n",
       "      <th>PriceDiff</th>\n",
       "    </tr>\n",
       "  </thead>\n",
       "  <tbody>\n",
       "    <tr>\n",
       "      <th>0</th>\n",
       "      <td>2008-01-02</td>\n",
       "      <td>1467.969971</td>\n",
       "      <td>1471.770020</td>\n",
       "      <td>1442.069946</td>\n",
       "      <td>1447.160034</td>\n",
       "      <td>1447.160034</td>\n",
       "      <td>3452650000</td>\n",
       "      <td>1447.160034</td>\n",
       "      <td>0.000000</td>\n",
       "      <td>0.000000</td>\n",
       "    </tr>\n",
       "    <tr>\n",
       "      <th>1</th>\n",
       "      <td>2008-01-03</td>\n",
       "      <td>1447.550049</td>\n",
       "      <td>1456.800049</td>\n",
       "      <td>1443.729980</td>\n",
       "      <td>1447.160034</td>\n",
       "      <td>1447.160034</td>\n",
       "      <td>3429500000</td>\n",
       "      <td>1411.630005</td>\n",
       "      <td>-0.024552</td>\n",
       "      <td>-35.530029</td>\n",
       "    </tr>\n",
       "    <tr>\n",
       "      <th>2</th>\n",
       "      <td>2008-01-04</td>\n",
       "      <td>1444.010010</td>\n",
       "      <td>1444.010010</td>\n",
       "      <td>1411.189941</td>\n",
       "      <td>1411.630005</td>\n",
       "      <td>1411.630005</td>\n",
       "      <td>4166000000</td>\n",
       "      <td>1416.180054</td>\n",
       "      <td>0.003223</td>\n",
       "      <td>4.550049</td>\n",
       "    </tr>\n",
       "    <tr>\n",
       "      <th>3</th>\n",
       "      <td>2008-01-07</td>\n",
       "      <td>1414.069946</td>\n",
       "      <td>1423.869995</td>\n",
       "      <td>1403.449951</td>\n",
       "      <td>1416.180054</td>\n",
       "      <td>1416.180054</td>\n",
       "      <td>4221260000</td>\n",
       "      <td>1390.189941</td>\n",
       "      <td>-0.018352</td>\n",
       "      <td>-25.990113</td>\n",
       "    </tr>\n",
       "    <tr>\n",
       "      <th>4</th>\n",
       "      <td>2008-01-08</td>\n",
       "      <td>1415.709961</td>\n",
       "      <td>1430.280029</td>\n",
       "      <td>1388.300049</td>\n",
       "      <td>1390.189941</td>\n",
       "      <td>1390.189941</td>\n",
       "      <td>4705390000</td>\n",
       "      <td>1409.130005</td>\n",
       "      <td>0.013624</td>\n",
       "      <td>18.940064</td>\n",
       "    </tr>\n",
       "  </tbody>\n",
       "</table>\n",
       "</div>"
      ],
      "text/plain": [
       "         Date         Open         High          Low        Close  \\\n",
       "0  2008-01-02  1467.969971  1471.770020  1442.069946  1447.160034   \n",
       "1  2008-01-03  1447.550049  1456.800049  1443.729980  1447.160034   \n",
       "2  2008-01-04  1444.010010  1444.010010  1411.189941  1411.630005   \n",
       "3  2008-01-07  1414.069946  1423.869995  1403.449951  1416.180054   \n",
       "4  2008-01-08  1415.709961  1430.280029  1388.300049  1390.189941   \n",
       "\n",
       "     Adj Close      Volume       Close1    Return  PriceDiff  \n",
       "0  1447.160034  3452650000  1447.160034  0.000000   0.000000  \n",
       "1  1447.160034  3429500000  1411.630005 -0.024552 -35.530029  \n",
       "2  1411.630005  4166000000  1416.180054  0.003223   4.550049  \n",
       "3  1416.180054  4221260000  1390.189941 -0.018352 -25.990113  \n",
       "4  1390.189941  4705390000  1409.130005  0.013624  18.940064  "
      ]
     },
     "execution_count": 61,
     "metadata": {},
     "output_type": "execute_result"
    }
   ],
   "source": [
    "sp500.head()"
   ]
  },
  {
   "cell_type": "code",
   "execution_count": null,
   "id": "c2e3b0e7-7a0d-473d-af95-0aca3f4c4715",
   "metadata": {},
   "outputs": [],
   "source": []
  }
 ],
 "metadata": {
  "kernelspec": {
   "display_name": "Python 3 (ipykernel)",
   "language": "python",
   "name": "python3"
  },
  "language_info": {
   "codemirror_mode": {
    "name": "ipython",
    "version": 3
   },
   "file_extension": ".py",
   "mimetype": "text/x-python",
   "name": "python",
   "nbconvert_exporter": "python",
   "pygments_lexer": "ipython3",
   "version": "3.12.1"
  }
 },
 "nbformat": 4,
 "nbformat_minor": 5
}
