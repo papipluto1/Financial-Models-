{
 "cells": [
  {
   "cell_type": "code",
   "execution_count": 1,
   "id": "26b84c8e-2530-4860-ac1c-a28bc9bf7143",
   "metadata": {},
   "outputs": [],
   "source": [
    "import pandas as pd \n",
    "import matplotlib as plt\n",
    "%matplotlib inline\n",
    "import numpy as np \n",
    "import scipy.stats as stats \n",
    "import statsmodels.api as smf "
   ]
  },
  {
   "cell_type": "code",
   "execution_count": 4,
   "id": "4e2e4ce7-d510-4247-83c2-a8cf8fff06cd",
   "metadata": {},
   "outputs": [],
   "source": [
    "tsla = pd.read_csv('TSLA-HSP.csv')"
   ]
  },
  {
   "cell_type": "code",
   "execution_count": 5,
   "id": "65d7cf76-dbd9-451f-8f4e-f1d81c9dace8",
   "metadata": {},
   "outputs": [
    {
     "data": {
      "text/html": [
       "<div>\n",
       "<style scoped>\n",
       "    .dataframe tbody tr th:only-of-type {\n",
       "        vertical-align: middle;\n",
       "    }\n",
       "\n",
       "    .dataframe tbody tr th {\n",
       "        vertical-align: top;\n",
       "    }\n",
       "\n",
       "    .dataframe thead th {\n",
       "        text-align: right;\n",
       "    }\n",
       "</style>\n",
       "<table border=\"1\" class=\"dataframe\">\n",
       "  <thead>\n",
       "    <tr style=\"text-align: right;\">\n",
       "      <th></th>\n",
       "      <th>Market Portfolio</th>\n",
       "      <th>Asset Price</th>\n",
       "    </tr>\n",
       "  </thead>\n",
       "  <tbody>\n",
       "    <tr>\n",
       "      <th>0</th>\n",
       "      <td>7953.87988</td>\n",
       "      <td>18.213333</td>\n",
       "    </tr>\n",
       "    <tr>\n",
       "      <th>1</th>\n",
       "      <td>7909.27979</td>\n",
       "      <td>18.153999</td>\n",
       "    </tr>\n",
       "    <tr>\n",
       "      <th>2</th>\n",
       "      <td>7964.24023</td>\n",
       "      <td>18.403999</td>\n",
       "    </tr>\n",
       "    <tr>\n",
       "      <th>3</th>\n",
       "      <td>7947.35986</td>\n",
       "      <td>17.894667</td>\n",
       "    </tr>\n",
       "    <tr>\n",
       "      <th>4</th>\n",
       "      <td>7984.16016</td>\n",
       "      <td>17.846666</td>\n",
       "    </tr>\n",
       "  </tbody>\n",
       "</table>\n",
       "</div>"
      ],
      "text/plain": [
       "   Market Portfolio  Asset Price\n",
       "0        7953.87988    18.213333\n",
       "1        7909.27979    18.153999\n",
       "2        7964.24023    18.403999\n",
       "3        7947.35986    17.894667\n",
       "4        7984.16016    17.846666"
      ]
     },
     "execution_count": 5,
     "metadata": {},
     "output_type": "execute_result"
    }
   ],
   "source": [
    "tsla.head()"
   ]
  },
  {
   "cell_type": "code",
   "execution_count": 6,
   "id": "cf60c911-9357-454d-b08e-6da532207807",
   "metadata": {},
   "outputs": [
    {
     "data": {
      "text/plain": [
       "1258"
      ]
     },
     "execution_count": 6,
     "metadata": {},
     "output_type": "execute_result"
    }
   ],
   "source": [
    "len(tsla)"
   ]
  },
  {
   "cell_type": "code",
   "execution_count": 7,
   "id": "c05d6db2-b0ea-49e9-af4b-124b66d4dd49",
   "metadata": {},
   "outputs": [
    {
     "data": {
      "text/html": [
       "<div>\n",
       "<style scoped>\n",
       "    .dataframe tbody tr th:only-of-type {\n",
       "        vertical-align: middle;\n",
       "    }\n",
       "\n",
       "    .dataframe tbody tr th {\n",
       "        vertical-align: top;\n",
       "    }\n",
       "\n",
       "    .dataframe thead th {\n",
       "        text-align: right;\n",
       "    }\n",
       "</style>\n",
       "<table border=\"1\" class=\"dataframe\">\n",
       "  <thead>\n",
       "    <tr style=\"text-align: right;\">\n",
       "      <th></th>\n",
       "      <th>Market Portfolio</th>\n",
       "      <th>Asset Price</th>\n",
       "    </tr>\n",
       "  </thead>\n",
       "  <tbody>\n",
       "    <tr>\n",
       "      <th>0</th>\n",
       "      <td>NaN</td>\n",
       "      <td>NaN</td>\n",
       "    </tr>\n",
       "    <tr>\n",
       "      <th>1</th>\n",
       "      <td>-0.005607</td>\n",
       "      <td>-0.003258</td>\n",
       "    </tr>\n",
       "    <tr>\n",
       "      <th>2</th>\n",
       "      <td>0.006949</td>\n",
       "      <td>0.013771</td>\n",
       "    </tr>\n",
       "    <tr>\n",
       "      <th>3</th>\n",
       "      <td>-0.002120</td>\n",
       "      <td>-0.027675</td>\n",
       "    </tr>\n",
       "    <tr>\n",
       "      <th>4</th>\n",
       "      <td>0.004631</td>\n",
       "      <td>-0.002682</td>\n",
       "    </tr>\n",
       "  </tbody>\n",
       "</table>\n",
       "</div>"
      ],
      "text/plain": [
       "   Market Portfolio  Asset Price\n",
       "0               NaN          NaN\n",
       "1         -0.005607    -0.003258\n",
       "2          0.006949     0.013771\n",
       "3         -0.002120    -0.027675\n",
       "4          0.004631    -0.002682"
      ]
     },
     "execution_count": 7,
     "metadata": {},
     "output_type": "execute_result"
    }
   ],
   "source": [
    "returns=tsla.pct_change()\n",
    "returns.head()"
   ]
  },
  {
   "cell_type": "code",
   "execution_count": 9,
   "id": "49241e7b-dfc5-42a9-ae9a-0367852ebd23",
   "metadata": {},
   "outputs": [
    {
     "data": {
      "text/html": [
       "<div>\n",
       "<style scoped>\n",
       "    .dataframe tbody tr th:only-of-type {\n",
       "        vertical-align: middle;\n",
       "    }\n",
       "\n",
       "    .dataframe tbody tr th {\n",
       "        vertical-align: top;\n",
       "    }\n",
       "\n",
       "    .dataframe thead th {\n",
       "        text-align: right;\n",
       "    }\n",
       "</style>\n",
       "<table border=\"1\" class=\"dataframe\">\n",
       "  <thead>\n",
       "    <tr style=\"text-align: right;\">\n",
       "      <th></th>\n",
       "      <th>Market Portfolio</th>\n",
       "      <th>Asset Price</th>\n",
       "      <th>MRP</th>\n",
       "    </tr>\n",
       "  </thead>\n",
       "  <tbody>\n",
       "    <tr>\n",
       "      <th>0</th>\n",
       "      <td>NaN</td>\n",
       "      <td>NaN</td>\n",
       "      <td>NaN</td>\n",
       "    </tr>\n",
       "    <tr>\n",
       "      <th>1</th>\n",
       "      <td>-0.005607</td>\n",
       "      <td>-0.003258</td>\n",
       "      <td>-0.057607</td>\n",
       "    </tr>\n",
       "    <tr>\n",
       "      <th>2</th>\n",
       "      <td>0.006949</td>\n",
       "      <td>0.013771</td>\n",
       "      <td>-0.045051</td>\n",
       "    </tr>\n",
       "    <tr>\n",
       "      <th>3</th>\n",
       "      <td>-0.002120</td>\n",
       "      <td>-0.027675</td>\n",
       "      <td>-0.054120</td>\n",
       "    </tr>\n",
       "    <tr>\n",
       "      <th>4</th>\n",
       "      <td>0.004631</td>\n",
       "      <td>-0.002682</td>\n",
       "      <td>-0.047369</td>\n",
       "    </tr>\n",
       "  </tbody>\n",
       "</table>\n",
       "</div>"
      ],
      "text/plain": [
       "   Market Portfolio  Asset Price       MRP\n",
       "0               NaN          NaN       NaN\n",
       "1         -0.005607    -0.003258 -0.057607\n",
       "2          0.006949     0.013771 -0.045051\n",
       "3         -0.002120    -0.027675 -0.054120\n",
       "4          0.004631    -0.002682 -0.047369"
      ]
     },
     "execution_count": 9,
     "metadata": {},
     "output_type": "execute_result"
    }
   ],
   "source": [
    "rfr = 0.052\n",
    "returns['MRP'] = returns['Market Portfolio'] - rfr\n",
    "returns.head()"
   ]
  },
  {
   "cell_type": "code",
   "execution_count": 15,
   "id": "aac1f25d-2bc8-48fc-a7b3-86bcbc5f3edc",
   "metadata": {},
   "outputs": [
    {
     "data": {
      "text/html": [
       "<table class=\"simpletable\">\n",
       "<caption>OLS Regression Results</caption>\n",
       "<tr>\n",
       "  <th>Dep. Variable:</th>       <td>Asset Price</td>   <th>  R-squared:         </th> <td>   0.359</td> \n",
       "</tr>\n",
       "<tr>\n",
       "  <th>Model:</th>                   <td>OLS</td>       <th>  Adj. R-squared:    </th> <td>   0.358</td> \n",
       "</tr>\n",
       "<tr>\n",
       "  <th>Method:</th>             <td>Least Squares</td>  <th>  F-statistic:       </th> <td>   701.4</td> \n",
       "</tr>\n",
       "<tr>\n",
       "  <th>Date:</th>             <td>Tue, 09 Apr 2024</td> <th>  Prob (F-statistic):</th> <td>3.85e-123</td>\n",
       "</tr>\n",
       "<tr>\n",
       "  <th>Time:</th>                 <td>11:28:05</td>     <th>  Log-Likelihood:    </th> <td>  2520.6</td> \n",
       "</tr>\n",
       "<tr>\n",
       "  <th>No. Observations:</th>      <td>  1257</td>      <th>  AIC:               </th> <td>  -5037.</td> \n",
       "</tr>\n",
       "<tr>\n",
       "  <th>Df Residuals:</th>          <td>  1255</td>      <th>  BIC:               </th> <td>  -5027.</td> \n",
       "</tr>\n",
       "<tr>\n",
       "  <th>Df Model:</th>              <td>     1</td>      <th>                     </th>     <td> </td>    \n",
       "</tr>\n",
       "<tr>\n",
       "  <th>Covariance Type:</th>      <td>nonrobust</td>    <th>                     </th>     <td> </td>    \n",
       "</tr>\n",
       "</table>\n",
       "<table class=\"simpletable\">\n",
       "<tr>\n",
       "    <td></td>       <th>coef</th>     <th>std err</th>      <th>t</th>      <th>P>|t|</th>  <th>[0.025</th>    <th>0.975]</th>  \n",
       "</tr>\n",
       "<tr>\n",
       "  <th>const</th> <td>    0.0816</td> <td>    0.003</td> <td>   26.136</td> <td> 0.000</td> <td>    0.075</td> <td>    0.088</td>\n",
       "</tr>\n",
       "<tr>\n",
       "  <th>MRP</th>   <td>    1.5403</td> <td>    0.058</td> <td>   26.484</td> <td> 0.000</td> <td>    1.426</td> <td>    1.654</td>\n",
       "</tr>\n",
       "</table>\n",
       "<table class=\"simpletable\">\n",
       "<tr>\n",
       "  <th>Omnibus:</th>       <td>137.139</td> <th>  Durbin-Watson:     </th> <td>   1.986</td> \n",
       "</tr>\n",
       "<tr>\n",
       "  <th>Prob(Omnibus):</th> <td> 0.000</td>  <th>  Jarque-Bera (JB):  </th> <td>1056.707</td> \n",
       "</tr>\n",
       "<tr>\n",
       "  <th>Skew:</th>          <td> 0.130</td>  <th>  Prob(JB):          </th> <td>3.46e-230</td>\n",
       "</tr>\n",
       "<tr>\n",
       "  <th>Kurtosis:</th>      <td> 7.484</td>  <th>  Cond. No.          </th> <td>    63.4</td> \n",
       "</tr>\n",
       "</table><br/><br/>Notes:<br/>[1] Standard Errors assume that the covariance matrix of the errors is correctly specified."
      ],
      "text/latex": [
       "\\begin{center}\n",
       "\\begin{tabular}{lclc}\n",
       "\\toprule\n",
       "\\textbf{Dep. Variable:}    &   Asset Price    & \\textbf{  R-squared:         } &     0.359   \\\\\n",
       "\\textbf{Model:}            &       OLS        & \\textbf{  Adj. R-squared:    } &     0.358   \\\\\n",
       "\\textbf{Method:}           &  Least Squares   & \\textbf{  F-statistic:       } &     701.4   \\\\\n",
       "\\textbf{Date:}             & Tue, 09 Apr 2024 & \\textbf{  Prob (F-statistic):} & 3.85e-123   \\\\\n",
       "\\textbf{Time:}             &     11:28:05     & \\textbf{  Log-Likelihood:    } &    2520.6   \\\\\n",
       "\\textbf{No. Observations:} &        1257      & \\textbf{  AIC:               } &    -5037.   \\\\\n",
       "\\textbf{Df Residuals:}     &        1255      & \\textbf{  BIC:               } &    -5027.   \\\\\n",
       "\\textbf{Df Model:}         &           1      & \\textbf{                     } &             \\\\\n",
       "\\textbf{Covariance Type:}  &    nonrobust     & \\textbf{                     } &             \\\\\n",
       "\\bottomrule\n",
       "\\end{tabular}\n",
       "\\begin{tabular}{lcccccc}\n",
       "               & \\textbf{coef} & \\textbf{std err} & \\textbf{t} & \\textbf{P$> |$t$|$} & \\textbf{[0.025} & \\textbf{0.975]}  \\\\\n",
       "\\midrule\n",
       "\\textbf{const} &       0.0816  &        0.003     &    26.136  &         0.000        &        0.075    &        0.088     \\\\\n",
       "\\textbf{MRP}   &       1.5403  &        0.058     &    26.484  &         0.000        &        1.426    &        1.654     \\\\\n",
       "\\bottomrule\n",
       "\\end{tabular}\n",
       "\\begin{tabular}{lclc}\n",
       "\\textbf{Omnibus:}       & 137.139 & \\textbf{  Durbin-Watson:     } &     1.986  \\\\\n",
       "\\textbf{Prob(Omnibus):} &   0.000 & \\textbf{  Jarque-Bera (JB):  } &  1056.707  \\\\\n",
       "\\textbf{Skew:}          &   0.130 & \\textbf{  Prob(JB):          } & 3.46e-230  \\\\\n",
       "\\textbf{Kurtosis:}      &   7.484 & \\textbf{  Cond. No.          } &      63.4  \\\\\n",
       "\\bottomrule\n",
       "\\end{tabular}\n",
       "%\\caption{OLS Regression Results}\n",
       "\\end{center}\n",
       "\n",
       "Notes: \\newline\n",
       " [1] Standard Errors assume that the covariance matrix of the errors is correctly specified."
      ],
      "text/plain": [
       "<class 'statsmodels.iolib.summary.Summary'>\n",
       "\"\"\"\n",
       "                            OLS Regression Results                            \n",
       "==============================================================================\n",
       "Dep. Variable:            Asset Price   R-squared:                       0.359\n",
       "Model:                            OLS   Adj. R-squared:                  0.358\n",
       "Method:                 Least Squares   F-statistic:                     701.4\n",
       "Date:                Tue, 09 Apr 2024   Prob (F-statistic):          3.85e-123\n",
       "Time:                        11:28:05   Log-Likelihood:                 2520.6\n",
       "No. Observations:                1257   AIC:                            -5037.\n",
       "Df Residuals:                    1255   BIC:                            -5027.\n",
       "Df Model:                           1                                         \n",
       "Covariance Type:            nonrobust                                         \n",
       "==============================================================================\n",
       "                 coef    std err          t      P>|t|      [0.025      0.975]\n",
       "------------------------------------------------------------------------------\n",
       "const          0.0816      0.003     26.136      0.000       0.075       0.088\n",
       "MRP            1.5403      0.058     26.484      0.000       1.426       1.654\n",
       "==============================================================================\n",
       "Omnibus:                      137.139   Durbin-Watson:                   1.986\n",
       "Prob(Omnibus):                  0.000   Jarque-Bera (JB):             1056.707\n",
       "Skew:                           0.130   Prob(JB):                    3.46e-230\n",
       "Kurtosis:                       7.484   Cond. No.                         63.4\n",
       "==============================================================================\n",
       "\n",
       "Notes:\n",
       "[1] Standard Errors assume that the covariance matrix of the errors is correctly specified.\n",
       "\"\"\""
      ]
     },
     "execution_count": 15,
     "metadata": {},
     "output_type": "execute_result"
    }
   ],
   "source": [
    "X =smf.add_constant(returns['MRP'])\n",
    "y= returns['Asset Price']\n",
    "model = smf.OLS(y,X)\n",
    "results = model.fit()\n",
    "results.summary()\n"
   ]
  },
  {
   "cell_type": "code",
   "execution_count": 14,
   "id": "22d92c78-7f03-4086-8d55-73464e499f91",
   "metadata": {},
   "outputs": [],
   "source": [
    "returns = returns.dropna()"
   ]
  },
  {
   "cell_type": "code",
   "execution_count": 17,
   "id": "27ca866b-98c5-46ca-bf90-0ba5265ec46c",
   "metadata": {},
   "outputs": [
    {
     "data": {
      "text/plain": [
       "1.5402797009306426"
      ]
     },
     "execution_count": 17,
     "metadata": {},
     "output_type": "execute_result"
    }
   ],
   "source": [
    "beta = results.params['MRP']\n",
    "beta"
   ]
  },
  {
   "cell_type": "code",
   "execution_count": 18,
   "id": "a0167c3b-77b9-430d-924a-9cc17cc7b18d",
   "metadata": {},
   "outputs": [
    {
     "data": {
      "text/plain": [
       "const    0.081607\n",
       "MRP      1.540280\n",
       "dtype: float64"
      ]
     },
     "execution_count": 18,
     "metadata": {},
     "output_type": "execute_result"
    }
   ],
   "source": [
    "results.params"
   ]
  },
  {
   "cell_type": "code",
   "execution_count": 19,
   "id": "0cdaced4-b1e5-45f1-bb2e-25cbfdbdaedb",
   "metadata": {},
   "outputs": [
    {
     "data": {
      "text/plain": [
       "0.0006940766567314817"
      ]
     },
     "execution_count": 19,
     "metadata": {},
     "output_type": "execute_result"
    }
   ],
   "source": [
    "market_returns = returns['Market Portfolio'].mean()\n",
    "market_returns"
   ]
  },
  {
   "cell_type": "code",
   "execution_count": 20,
   "id": "767622f5-6b80-4c33-a928-b7fae4b8d132",
   "metadata": {},
   "outputs": [
    {
     "data": {
      "text/html": [
       "<div>\n",
       "<style scoped>\n",
       "    .dataframe tbody tr th:only-of-type {\n",
       "        vertical-align: middle;\n",
       "    }\n",
       "\n",
       "    .dataframe tbody tr th {\n",
       "        vertical-align: top;\n",
       "    }\n",
       "\n",
       "    .dataframe thead th {\n",
       "        text-align: right;\n",
       "    }\n",
       "</style>\n",
       "<table border=\"1\" class=\"dataframe\">\n",
       "  <thead>\n",
       "    <tr style=\"text-align: right;\">\n",
       "      <th></th>\n",
       "      <th>Market Portfolio</th>\n",
       "      <th>Asset Price</th>\n",
       "      <th>MRP</th>\n",
       "    </tr>\n",
       "  </thead>\n",
       "  <tbody>\n",
       "    <tr>\n",
       "      <th>1</th>\n",
       "      <td>-0.005607</td>\n",
       "      <td>-0.003258</td>\n",
       "      <td>-0.057607</td>\n",
       "    </tr>\n",
       "    <tr>\n",
       "      <th>2</th>\n",
       "      <td>0.006949</td>\n",
       "      <td>0.013771</td>\n",
       "      <td>-0.045051</td>\n",
       "    </tr>\n",
       "    <tr>\n",
       "      <th>3</th>\n",
       "      <td>-0.002120</td>\n",
       "      <td>-0.027675</td>\n",
       "      <td>-0.054120</td>\n",
       "    </tr>\n",
       "    <tr>\n",
       "      <th>4</th>\n",
       "      <td>0.004631</td>\n",
       "      <td>-0.002682</td>\n",
       "      <td>-0.047369</td>\n",
       "    </tr>\n",
       "    <tr>\n",
       "      <th>5</th>\n",
       "      <td>-0.001021</td>\n",
       "      <td>-0.004931</td>\n",
       "      <td>-0.053021</td>\n",
       "    </tr>\n",
       "    <tr>\n",
       "      <th>...</th>\n",
       "      <td>...</td>\n",
       "      <td>...</td>\n",
       "      <td>...</td>\n",
       "    </tr>\n",
       "    <tr>\n",
       "      <th>1253</th>\n",
       "      <td>0.001060</td>\n",
       "      <td>-0.003242</td>\n",
       "      <td>-0.050940</td>\n",
       "    </tr>\n",
       "    <tr>\n",
       "      <th>1254</th>\n",
       "      <td>-0.009537</td>\n",
       "      <td>-0.049024</td>\n",
       "      <td>-0.061537</td>\n",
       "    </tr>\n",
       "    <tr>\n",
       "      <th>1255</th>\n",
       "      <td>0.002279</td>\n",
       "      <td>0.010502</td>\n",
       "      <td>-0.049721</td>\n",
       "    </tr>\n",
       "    <tr>\n",
       "      <th>1256</th>\n",
       "      <td>-0.014030</td>\n",
       "      <td>0.016213</td>\n",
       "      <td>-0.066030</td>\n",
       "    </tr>\n",
       "    <tr>\n",
       "      <th>1257</th>\n",
       "      <td>0.012427</td>\n",
       "      <td>-0.036292</td>\n",
       "      <td>-0.039573</td>\n",
       "    </tr>\n",
       "  </tbody>\n",
       "</table>\n",
       "<p>1257 rows × 3 columns</p>\n",
       "</div>"
      ],
      "text/plain": [
       "      Market Portfolio  Asset Price       MRP\n",
       "1            -0.005607    -0.003258 -0.057607\n",
       "2             0.006949     0.013771 -0.045051\n",
       "3            -0.002120    -0.027675 -0.054120\n",
       "4             0.004631    -0.002682 -0.047369\n",
       "5            -0.001021    -0.004931 -0.053021\n",
       "...                ...          ...       ...\n",
       "1253          0.001060    -0.003242 -0.050940\n",
       "1254         -0.009537    -0.049024 -0.061537\n",
       "1255          0.002279     0.010502 -0.049721\n",
       "1256         -0.014030     0.016213 -0.066030\n",
       "1257          0.012427    -0.036292 -0.039573\n",
       "\n",
       "[1257 rows x 3 columns]"
      ]
     },
     "execution_count": 20,
     "metadata": {},
     "output_type": "execute_result"
    }
   ],
   "source": [
    "returns"
   ]
  },
  {
   "cell_type": "code",
   "execution_count": 22,
   "id": "a5fdbfb6-98d8-4f91-b759-cd8067b811a7",
   "metadata": {},
   "outputs": [
    {
     "name": "stdout",
     "output_type": "stream",
     "text": [
      "The cost of equity is -2.70%.\n"
     ]
    }
   ],
   "source": [
    "cost_of_equity = rfr+beta*(market_returns - rfr)\n",
    "print(f'The cost of equity is {cost_of_equity:.2%}.')"
   ]
  },
  {
   "cell_type": "code",
   "execution_count": null,
   "id": "1b2f23e3-3681-4534-8a5d-55af5abb94e0",
   "metadata": {},
   "outputs": [],
   "source": []
  }
 ],
 "metadata": {
  "kernelspec": {
   "display_name": "Python 3 (ipykernel)",
   "language": "python",
   "name": "python3"
  },
  "language_info": {
   "codemirror_mode": {
    "name": "ipython",
    "version": 3
   },
   "file_extension": ".py",
   "mimetype": "text/x-python",
   "name": "python",
   "nbconvert_exporter": "python",
   "pygments_lexer": "ipython3",
   "version": "3.12.1"
  }
 },
 "nbformat": 4,
 "nbformat_minor": 5
}
